{
 "cells": [
  {
   "cell_type": "code",
   "execution_count": 33,
   "id": "1cf4a87f",
   "metadata": {},
   "outputs": [],
   "source": [
    "import requests\n",
    "from bs4 import BeautifulSoup\n",
    "import pandas as pd"
   ]
  },
  {
   "cell_type": "code",
   "execution_count": 9,
   "id": "0244418f",
   "metadata": {},
   "outputs": [],
   "source": [
    "url = 'https://iceandfire.fandom.com/wiki/Aegon%27s_Conquest_-_Fire_%26_Blood'\n",
    "html = requests.get(url)"
   ]
  },
  {
   "cell_type": "code",
   "execution_count": 98,
   "id": "0ca9cddf",
   "metadata": {},
   "outputs": [],
   "source": [
    "doc = BeautifulSoup(html.text, 'html.parser')\n"
   ]
  },
  {
   "cell_type": "code",
   "execution_count": 17,
   "id": "1026c5ae",
   "metadata": {},
   "outputs": [],
   "source": [
    "cards = doc.select_one('.mw-parser-output > ul')\n"
   ]
  },
  {
   "cell_type": "code",
   "execution_count": 74,
   "id": "c6b4a09b",
   "metadata": {},
   "outputs": [],
   "source": [
    "characters = [card.text for card in cards]\n",
    "characters = pd.DataFrame(characters)"
   ]
  },
  {
   "cell_type": "code",
   "execution_count": 75,
   "id": "c1c624bd",
   "metadata": {},
   "outputs": [
    {
     "data": {
      "text/plain": [
       "\\n                                  43\n",
       "Aegon Targaryen                      2\n",
       "Bastard of Blackhaven                1\n",
       "Edmyn Tully                          1\n",
       "Edmund Gardener                      1\n",
       "Dickon Morrigon                      1\n",
       "Daenys \"the Dreamer\" Targaryen       1\n",
       "Daemon Velaryon                      1\n",
       "Daemion Targaryen                    1\n",
       "Crispian Celtigar                    1\n",
       "Brandon Snow                         1\n",
       "Balerion the Black Dread             1\n",
       "Vhagar                               1\n",
       "Baelon Targaryen                     1\n",
       "Arrec Durrandon                      1\n",
       "Argilac \"the Arrogant\" Durrandon     1\n",
       "Argella Durrandon                    1\n",
       "Aerys Targaryen                      1\n",
       "Aerion Targaryen                     1\n",
       "Aenar \"the Exile\" Targaryen          1\n",
       "Aelyx Targaryen                      1\n",
       "Elaena Targaryen                     1\n",
       "Visenya Targaryen                    1\n",
       "Garse VII Gardener                   1\n",
       "Meria Martell                        1\n",
       "Valaena Velaryon                     1\n",
       "Triston Massey                       1\n",
       "Torrhen Stark                        1\n",
       "Sharra Arryn                         1\n",
       "Ronnel Arryn                         1\n",
       "Rhaenys Targaryen                    1\n",
       "Orys Baratheon                       1\n",
       "Mern IX Gardener                     1\n",
       "Meraxes                              1\n",
       "Gawen Gardener                       1\n",
       "Marla Sunderland                     1\n",
       "Manfred Hightower                    1\n",
       "Maegon Targaryen                     1\n",
       "Loren I Lannister                    1\n",
       "Jon Mooton                           1\n",
       "Harwyn \"Hardhand\" Hoare              1\n",
       "Harren \"the Black\" Hoare             1\n",
       "Harlan Tyrell                        1\n",
       "Gaemon \"the Glorious\" Targaryen      1\n",
       "dtype: int64"
      ]
     },
     "execution_count": 75,
     "metadata": {},
     "output_type": "execute_result"
    }
   ],
   "source": [
    "characters.value_counts()"
   ]
  },
  {
   "cell_type": "code",
   "execution_count": 76,
   "id": "757daa45",
   "metadata": {},
   "outputs": [],
   "source": [
    "characters.rename( columns={0:'name'}, inplace=True )"
   ]
  },
  {
   "cell_type": "code",
   "execution_count": 100,
   "id": "8c6a88da",
   "metadata": {},
   "outputs": [
    {
     "data": {
      "text/html": [
       "<div>\n",
       "<style scoped>\n",
       "    .dataframe tbody tr th:only-of-type {\n",
       "        vertical-align: middle;\n",
       "    }\n",
       "\n",
       "    .dataframe tbody tr th {\n",
       "        vertical-align: top;\n",
       "    }\n",
       "\n",
       "    .dataframe thead th {\n",
       "        text-align: right;\n",
       "    }\n",
       "</style>\n",
       "<table border=\"1\" class=\"dataframe\">\n",
       "  <thead>\n",
       "    <tr style=\"text-align: right;\">\n",
       "      <th></th>\n",
       "      <th>name</th>\n",
       "    </tr>\n",
       "  </thead>\n",
       "  <tbody>\n",
       "    <tr>\n",
       "      <th>78</th>\n",
       "      <td>Torrhen Stark</td>\n",
       "    </tr>\n",
       "    <tr>\n",
       "      <th>80</th>\n",
       "      <td>Triston Massey</td>\n",
       "    </tr>\n",
       "    <tr>\n",
       "      <th>82</th>\n",
       "      <td>Valaena Velaryon</td>\n",
       "    </tr>\n",
       "    <tr>\n",
       "      <th>84</th>\n",
       "      <td>Vhagar</td>\n",
       "    </tr>\n",
       "    <tr>\n",
       "      <th>86</th>\n",
       "      <td>Visenya Targaryen</td>\n",
       "    </tr>\n",
       "  </tbody>\n",
       "</table>\n",
       "</div>"
      ],
      "text/plain": [
       "                 name\n",
       "78      Torrhen Stark\n",
       "80     Triston Massey\n",
       "82   Valaena Velaryon\n",
       "84             Vhagar\n",
       "86  Visenya Targaryen"
      ]
     },
     "execution_count": 100,
     "metadata": {},
     "output_type": "execute_result"
    }
   ],
   "source": [
    "characters = characters[~(characters['name'] =='\\n')]\n",
    "characters.tail()"
   ]
  },
  {
   "cell_type": "code",
   "execution_count": null,
   "id": "8f582993",
   "metadata": {},
   "outputs": [],
   "source": []
  },
  {
   "cell_type": "code",
   "execution_count": null,
   "id": "08e97608",
   "metadata": {},
   "outputs": [],
   "source": []
  }
 ],
 "metadata": {
  "kernelspec": {
   "display_name": "fireenv",
   "language": "python",
   "name": "fireenv"
  },
  "language_info": {
   "codemirror_mode": {
    "name": "ipython",
    "version": 3
   },
   "file_extension": ".py",
   "mimetype": "text/x-python",
   "name": "python",
   "nbconvert_exporter": "python",
   "pygments_lexer": "ipython3",
   "version": "3.6.13"
  }
 },
 "nbformat": 4,
 "nbformat_minor": 5
}
